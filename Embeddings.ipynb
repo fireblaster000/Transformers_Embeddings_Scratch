{
 "cells": [
  {
   "attachments": {},
   "cell_type": "markdown",
   "metadata": {},
   "source": [
    "# Embeddings and Sentence Classification\n",
    "\n",
    "<center>\n",
    "    <img src=\"embeddings.jpeg\">\n",
    "</center>\n",
    "\n",
    "### Introduction\n",
    "\n",
    "Embeddings are a way to represent words (or more generally, *tokens*) as vectors. These vectors are useful for many tasks in NLP, including but not limited to: Text Generation, Machine Translation, and Sentence Classification. In this notebook, we will be exploring the concept of Embeddings, and using them for Sentence Classification."
   ]
  },
  {
   "cell_type": "code",
   "execution_count": 1,
   "metadata": {},
   "outputs": [
    {
     "name": "stderr",
     "output_type": "stream",
     "text": [
      "[nltk_data] Downloading package stopwords to\n",
      "[nltk_data]     C:\\Users\\ASUS\\AppData\\Roaming\\nltk_data...\n",
      "[nltk_data]   Package stopwords is already up-to-date!\n",
      "[nltk_data] Downloading package wordnet to\n",
      "[nltk_data]     C:\\Users\\ASUS\\AppData\\Roaming\\nltk_data...\n",
      "[nltk_data]   Package wordnet is already up-to-date!\n"
     ]
    },
    {
     "data": {
      "text/plain": [
       "True"
      ]
     },
     "execution_count": 1,
     "metadata": {},
     "output_type": "execute_result"
    }
   ],
   "source": [
    "import re\n",
    "\n",
    "import numpy as np\n",
    "import pandas as pd\n",
    "\n",
    "import nltk\n",
    "from nltk.corpus import stopwords\n",
    "\n",
    "from sklearn.model_selection import train_test_split\n",
    "\n",
    "import gensim.downloader as api\n",
    "from gensim.models.word2vec import Word2Vec\n",
    "\n",
    "from gpt4all import Embed4All\n",
    "\n",
    "import torch\n",
    "import torch.nn as nn\n",
    "\n",
    "nltk.download('stopwords')\n",
    "nltk.download('wordnet')"
   ]
  },
  {
   "attachments": {},
   "cell_type": "markdown",
   "metadata": {},
   "source": [
    "## Exploring Embeddings\n",
    "\n",
    "Put simply, Embeddings are fixed-size **dense** vector representations of tokens in natural language. This means you can represent words as vectors, sentences as vectors, even other entities like entire graphs as vectors.\n",
    "\n",
    "So what really makes them different from something like One-Hot vectors?\n",
    "\n",
    "What's special is that they have semantic meaning baked into them. This means you can model relationships between entities in text, which itself leads to a lot of fun applications. All modern architectures make use of Embeddings in some way.\n",
    "\n",
    "You can read more about them [here](https://aman.ai/primers/ai/word-vectors/).\n",
    "\n",
    "We will be using *pretrained* Embeddings: this means that we will be using Embeddings that have already been trained on a large corpus of text. This is because training Embeddings from scratch is a very computationally expensive task, and we don't have the resources to do so. Fortunately, there were some good samaritans who have already done this for us, and we can use their publicly available Embeddings for our own tasks.\n",
    "\n",
    "\n",
    "This part will allow us to explore what Embeddings are. We will load in pretrained Embeddings here and examine some of their properties. If you're interested, feel free look up the [Word2Vec model](https://arxiv.org/abs/1301.3781): this is the model that was trained to give us the embeddings you will see below."
   ]
  },
  {
   "cell_type": "code",
   "execution_count": 2,
   "metadata": {},
   "outputs": [
    {
     "name": "stdout",
     "output_type": "stream",
     "text": [
      "Done loading word2vec model!\n"
     ]
    }
   ],
   "source": [
    "# Download the pretrained word2vec model (this may take a few minutes)\n",
    "corpus = api.load('text8')\n",
    "w2vmodel = Word2Vec(corpus)\n",
    "\n",
    "print(\"Done loading word2vec model!\")"
   ]
  },
  {
   "attachments": {},
   "cell_type": "markdown",
   "metadata": {},
   "source": [
    "Now that we've loaded in the Embeddings, we can create an Embedding **layer** in PyTorch, `nn.Embedding`, that will perform the processing step for us.\n",
    "\n",
    "Note in the following cell how there is a given **vocab size** and **embedding dimension** for the model: this is important to note because some sets of Embeddings may be defined for a large set of words (a large vocab), whereas older ones perhaps have a smaller set (a small vocab); the Embedding dimension essentially tells us how many *features* have been learned for a given word, that will allow us to perform further processing on top of."
   ]
  },
  {
   "cell_type": "code",
   "execution_count": 3,
   "metadata": {},
   "outputs": [
    {
     "name": "stdout",
     "output_type": "stream",
     "text": [
      "Vocab size: 71290\n",
      "Some of the words in the vocabulary:\n",
      "['the', 'of', 'and', 'one', 'in', 'a', 'to', 'zero', 'nine', 'two']\n",
      "Embedding dimension: 100\n"
     ]
    }
   ],
   "source": [
    "# Define embedding layer using gensim\n",
    "embedding_layer = nn.Embedding.from_pretrained(torch.FloatTensor(w2vmodel.wv.vectors))\n",
    "\n",
    "# Get some information from the w2vmodel\n",
    "print(f\"Vocab size: {len(w2vmodel.wv.key_to_index)}\")\n",
    "\n",
    "print(f\"Some of the words in the vocabulary:\\n{list(w2vmodel.wv.key_to_index.keys())[:10]}\")\n",
    "\n",
    "print(f\"Embedding dimension: {w2vmodel.wv.vectors.shape[1]}\")"
   ]
  },
  {
   "attachments": {},
   "cell_type": "markdown",
   "metadata": {},
   "source": [
    "Now, for a demonstration, we instantiate two words, turn them into numbers (encoding them via their index in the vocab), and pass them through the Embedding layer. \n",
    "\n",
    "Note how the resultant Embeddings both have the same shape: 1 word, and 100 elements in the vector."
   ]
  },
  {
   "cell_type": "code",
   "execution_count": 4,
   "metadata": {},
   "outputs": [
    {
     "name": "stdout",
     "output_type": "stream",
     "text": [
      "Embedding Shape for 'king': torch.Size([1, 100])\n",
      "Embedding Shape for 'queen': torch.Size([1, 100])\n"
     ]
    }
   ],
   "source": [
    "# Take two words and get their embeddings\n",
    "word1 = \"king\"\n",
    "word2 = \"queen\"\n",
    "\n",
    "def word2vec(word):\n",
    "    return embedding_layer(torch.LongTensor([w2vmodel.wv.key_to_index[word]]))\n",
    "\n",
    "king_embedding = word2vec(word1)\n",
    "queen_embedding = word2vec(word2)\n",
    "\n",
    "print(f\"Embedding Shape for '{word1}': {king_embedding.shape}\")\n",
    "print(f\"Embedding Shape for '{word2}': {queen_embedding.shape}\")"
   ]
  },
  {
   "attachments": {},
   "cell_type": "markdown",
   "metadata": {},
   "source": [
    "When we have vectors whose scale is arbitrary, one nice way to measure how *similar* they are is with the Cosine Similarity measure.\n",
    "\n",
    "\n",
    "$$ \\text{Cosine Similarity}(\\mathbf{u},\\mathbf{v}) = \\frac{\\mathbf{u} \\cdot \\mathbf{v}}{\\|\\mathbf{u}\\| \\|\\mathbf{v}\\|} $$\n",
    "\n",
    "\n",
    "We can apply this idea to our Embeddings. To see how \"similar\" two words are to the model, we can generate their Embeddings and take the Cosine Similarity of them. This will be a number between -1 and 1 (just like the range of the cosine function). When the number is close to 0, the words are not similar."
   ]
  },
  {
   "cell_type": "code",
   "execution_count": null,
   "metadata": {},
   "outputs": [
    {
     "name": "stdout",
     "output_type": "stream",
     "text": [
      "Similarity between 'man' and 'woman': 0.7608709335327148\n",
      "Similarity between 'man' and 'mango': 0.12227462232112885\n"
     ]
    }
   ],
   "source": [
    "def cosine_similarity(vec1, vec2):\n",
    "    '''\n",
    "    Computes the cosine similarity between two vectors\n",
    "    '''\n",
    "\n",
    "    # Compute the cosine similarity between the two vectors (using PyTorch)\n",
    "    dotproduct = np.dot(vec1,vec2)\n",
    "    vec1_norm = torch.norm(vec1)\n",
    "    vec2_norm = torch.norm(vec2)\n",
    "    cos_sim = dotproduct/(vec1_norm*vec2_norm)\n",
    "\n",
    "    return cos_sim\n",
    "\n",
    "def compute_word_similarity(word1, word2):\n",
    "    '''\n",
    "    Takes in two words, computes their embeddings and returns the cosine similarity\n",
    "    '''\n",
    "    emb_one = word2vec((word1)).squeeze()\n",
    "    emb_two = word2vec((word2)).squeeze()\n",
    "    return cosine_similarity(emb_one,emb_two).item()\n",
    "\n",
    "# Define three words (one pair should be similar and one pair should be dissimilar) and compute their similarity\n",
    "word1 = \"man\"\n",
    "word2 = \"woman\"\n",
    "word3 = \"mango\"\n",
    "print(f\"Similarity between '{word1}' and '{word2}': {compute_word_similarity(word1, word2)}\")\n",
    "print(f\"Similarity between '{word1}' and '{word3}': {compute_word_similarity(word1, word3)}\")"
   ]
  },
  {
   "cell_type": "code",
   "execution_count": 6,
   "metadata": {},
   "outputs": [],
   "source": [
    "# Run this cell if you're done with the above section\n",
    "del embedding_layer"
   ]
  },
  {
   "cell_type": "markdown",
   "metadata": {},
   "source": [
    "## Sentence Classification Classification with Sentence Embeddings\n",
    "\n",
    "Now let's move on to an actual application: classifying whether a tweet is about a real disaster or not. As you can imagine, this could be a valuable model when monitoring social media for disaster relief efforts.\n",
    "\n",
    "Since we are using Sentence Embeddings, we want something that will take in a sequence of words and throw out a single fixed-size vector. For this task, we will make use of an LLM via the `gpt4all` library.\n",
    "\n",
    "This library will allow us to generate pretrained embeddings for sentences, that we can use as **features** to feed to any classifier of our choice."
   ]
  },
  {
   "cell_type": "code",
   "execution_count": 7,
   "metadata": {},
   "outputs": [
    {
     "name": "stdout",
     "output_type": "stream",
     "text": [
      "(6090, 2) (1523, 2)\n"
     ]
    }
   ],
   "source": [
    "# Read in the data here\n",
    "df = pd.read_csv(\"./disaster_tweets.csv\")\n",
    "df = df[[\"text\", \"target\"]]\n",
    "\n",
    "# Split the data\n",
    "train, val = train_test_split(df, test_size=0.2, random_state=42)\n",
    "print(train.shape, val.shape)"
   ]
  },
  {
   "cell_type": "markdown",
   "metadata": {},
   "source": [
    "Before jumping straight to Embeddings, since our data is sourced from the cesspool that is Twitter, we should probably do some cleaning. This can involve the removal of URLs, punctuation, numbers that don't provide any meaning, stopwords, and so on.'"
   ]
  },
  {
   "cell_type": "code",
   "execution_count": null,
   "metadata": {},
   "outputs": [],
   "source": [
    "def lowercase(txt):\n",
    "    \n",
    "    return txt.lower()\n",
    "\n",
    "def remove_punctuation(txt):\n",
    "    \n",
    "    return re.sub(r'[^\\w\\s]', '', txt)\n",
    "\n",
    "def remove_stopwords(txt):\n",
    "    \n",
    "    stop_words = set(stopwords.words('english'))\n",
    "    words = txt.split()\n",
    "    return ' '.join([word for word in words if word not in stop_words])\n",
    "\n",
    "\n",
    "def remove_numbers(txt):\n",
    "    \n",
    "    return re.sub(r'\\d+', '', txt)\n",
    "\n",
    "def remove_url(txt):\n",
    "    \n",
    "    return re.sub(r'http\\S+', '', txt)\n",
    "\n",
    "def normalize_sentence(txt):\n",
    "    '''\n",
    "    Aggregates all the above functions to normalize/clean a sentence\n",
    "    '''\n",
    "    \n",
    "    txt = lowercase(txt)\n",
    "    txt = remove_url(txt)\n",
    "    txt = remove_punctuation(txt)\n",
    "    txt = remove_numbers(txt)\n",
    "    txt = remove_stopwords(txt)\n",
    "    return txt\n",
    "\n",
    "# Clean the sentences\n",
    "train['text'] = train['text'].apply(normalize_sentence)\n",
    "val['text'] = val['text'].apply(normalize_sentence)\n",
    "\n",
    "# Filter sentences that are too short (less than 20ish characters)\n",
    "train = train[train['text'].str.len() >= 20]\n",
    "val = val[val['text'].str.len() >= 20]\n",
    "\n"
   ]
  },
  {
   "cell_type": "markdown",
   "metadata": {},
   "source": [
    "Now for the fun part, creating our Embeddings!\n",
    "\n",
    "We will be using the `gpt4all.Embed4All` class for this purpose. You can look up the documentation [here](https://docs.gpt4all.io/gpt4all_python_embedding.html#gpt4all.gpt4all.Embed4All.embed).\n",
    "\n",
    "This functionality makes use of a model called [Sentence-BERT](https://arxiv.org/abs/1908.10084). This is a Transformer-based model that has been trained on a large corpus of text, and is able to generate high-quality Sentence Embeddings for us."
   ]
  },
  {
   "cell_type": "code",
   "execution_count": null,
   "metadata": {},
   "outputs": [],
   "source": [
    "# Generate embeddings for train and validation sentences (5 marks)\n",
    "\n",
    "feature_extractor = Embed4All()\n",
    "\n",
    "# Encode the train samples\n",
    "# train_emb = feature_extractor.embed(train['text'])\n",
    "# val_emb = feature_extractor.embed(val['text'])\n",
    "# Encode the train sentences\n",
    "train_emb = [feature_extractor.embed(sentence) for sentence in train['text']]\n",
    "\n",
    "# Encode the validation sentences\n",
    "val_emb = [feature_extractor.embed(sentence) for sentence in val['text']]\n",
    "\n",
    "# Ready the labels\n",
    "t_labels = train['target']\n",
    "v_labels = val['target']\n"
   ]
  },
  {
   "cell_type": "markdown",
   "metadata": {},
   "source": [
    "Now with our Embeddings ready, we can move on to the actual classification task.\n",
    "\n",
    "We have the choice of using **any** classifier you wish. We can use a simple Logistic Regression model, get fancy with Support Vector Machines, or even use a Neural Network. The choice is ours."
   ]
  },
  {
   "cell_type": "code",
   "execution_count": null,
   "metadata": {},
   "outputs": [
    {
     "name": "stdout",
     "output_type": "stream",
     "text": [
      "Validation Accuracy: 82.73283480625425\n"
     ]
    }
   ],
   "source": [
    "from sklearn.svm import SVC\n",
    "from sklearn.metrics import accuracy_score\n",
    "\n",
    "# Initialize the SVM model\n",
    "svm_model = SVC(probability=True)\n",
    "\n",
    "# Convert and flatten the embeddings for training\n",
    "train_emb_flat = [np.array(emb).flatten() for emb in train_emb]\n",
    "val_emb_flat = [np.array(emb).flatten() for emb in val_emb]\n",
    "\n",
    "# Train the SVM model\n",
    "svm_model.fit(train_emb_flat, t_labels)\n",
    "\n",
    "# Predict on the validation set\n",
    "val_predictions = svm_model.predict(val_emb_flat)\n",
    "\n",
    "# Calculate and print the accuracy\n",
    "val_accuracy = accuracy_score(v_labels, val_predictions)\n",
    "print(f\"Validation Accuracy: {val_accuracy*100}\")\n",
    "\n"
   ]
  },
  {
   "cell_type": "code",
   "execution_count": null,
   "metadata": {},
   "outputs": [
    {
     "name": "stdout",
     "output_type": "stream",
     "text": [
      "(1, 0.6733840588143077)\n",
      "(0, 0.6577374503394954)\n",
      "(1, 0.8081076502988142)\n",
      "(1, 0.9324382112820022)\n",
      "(0, 0.9270193652165418)\n"
     ]
    }
   ],
   "source": [
    "def predict(sentence, clf):\n",
    "    '''\n",
    "    Takes in a sentence and returns the predicted class along with the probability\n",
    "    '''\n",
    "    # Clean and encode the sentence\n",
    "    cleaned_sentence = normalize_sentence(sentence)\n",
    "    encoded_sentence = feature_extractor.embed(cleaned_sentence)\n",
    "    encoded_sentence = np.array(encoded_sentence).reshape(1, -1)\n",
    "\n",
    "    # Predict the class and probability\n",
    "    prediction = clf.predict(encoded_sentence)\n",
    "    probability = clf.predict_proba(encoded_sentence)\n",
    "    return prediction[0], max(probability[0])\n",
    "    \n",
    "# Predict on a few of your own sentences\n",
    "print(predict(\"I like thunderstorm and gloomy nights\", svm_model))\n",
    "print(predict(\"It is raining cats and dogs!\", svm_model))\n",
    "print(predict(\"During the 1960s the oryx a symbol of the Arabian Peninsula were annihilated by hunters.\",svm_model))\n",
    "print(predict(\"After death of Palestinian toddler in arson attack Israel cracks down on Jewish\",svm_model))\n",
    "print(predict(\"Mahira Khan's wedding and people's ugly commentary remind me how hard it is to be a woman and on top of that a divorcee who is financially independent. May the evil in you die, painfully!\",svm_model))"
   ]
  },
  {
   "cell_type": "markdown",
   "metadata": {},
   "source": [
    "Hopefully now you realize the power of Embeddings, and the usefulness of pretrained models."
   ]
  }
 ],
 "metadata": {
  "kernelspec": {
   "display_name": "base",
   "language": "python",
   "name": "python3"
  },
  "language_info": {
   "codemirror_mode": {
    "name": "ipython",
    "version": 3
   },
   "file_extension": ".py",
   "mimetype": "text/x-python",
   "name": "python",
   "nbconvert_exporter": "python",
   "pygments_lexer": "ipython3",
   "version": "3.11.1"
  },
  "orig_nbformat": 4,
  "vscode": {
   "interpreter": {
    "hash": "bbe381b710e5d3541ca1e32a0f143d44d9fc319722adcf51c48d4250c2e9fef8"
   }
  }
 },
 "nbformat": 4,
 "nbformat_minor": 2
}
